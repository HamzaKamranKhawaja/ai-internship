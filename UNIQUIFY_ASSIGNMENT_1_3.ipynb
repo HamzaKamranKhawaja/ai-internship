{
  "nbformat": 4,
  "nbformat_minor": 0,
  "metadata": {
    "colab": {
      "name": "UNIQUIFY ASSIGNMENT 1.3.ipynb",
      "provenance": [],
      "authorship_tag": "ABX9TyPjwKnwlN58PbMsH8gWTRjK",
      "include_colab_link": true
    },
    "kernelspec": {
      "name": "python3",
      "display_name": "Python 3"
    },
    "language_info": {
      "name": "python"
    }
  },
  "cells": [
    {
      "cell_type": "markdown",
      "metadata": {
        "id": "view-in-github",
        "colab_type": "text"
      },
      "source": [
        "<a href=\"https://colab.research.google.com/github/HamzaKamranKhawaja/ai-internship/blob/main/UNIQUIFY_ASSIGNMENT_1_3.ipynb\" target=\"_parent\"><img src=\"https://colab.research.google.com/assets/colab-badge.svg\" alt=\"Open In Colab\"/></a>"
      ]
    },
    {
      "cell_type": "code",
      "source": [
        "import numpy as np\n",
        "import tensorflow as tf\n",
        "import pandas as pd\n",
        "import matplotlib.pyplot as plt"
      ],
      "metadata": {
        "id": "cRraBE5Wxfoo"
      },
      "execution_count": null,
      "outputs": []
    },
    {
      "cell_type": "code",
      "execution_count": null,
      "metadata": {
        "id": "hBPw55rCu-3A"
      },
      "outputs": [],
      "source": [
        "\n",
        "#obtain training and testing mnist data\n",
        "mnist_dataset = tf.keras.datasets.mnist\n",
        "(old_xtrain, old_ytrain), (old_xtest, old_ytest) = mnist_dataset.load_data()\n",
        "old_xtrain, old_xtest = old_xtrain / 255.0, old_xtest / 255.0\n",
        "\n",
        "\n"
      ]
    },
    {
      "cell_type": "code",
      "source": [
        "\n",
        "#creating fully connected nn with 10 output nodes\n",
        "model_single = tf.keras.models.Sequential([\n",
        "  tf.keras.layers.Flatten(input_shape=(28, 28)),\n",
        "  tf.keras.layers.Dense(128, activation='relu'),\n",
        "  tf.keras.layers.Dropout(0.4),\n",
        "  tf.keras.layers.Dense(48, activation='relu'),\n",
        "  tf.keras.layers.Dense(10)\n",
        "])\n",
        "\n",
        "\n",
        "#creating fully connected nn with 10 output nodes\n",
        "model_double = tf.keras.models.Sequential([\n",
        "  tf.keras.layers.Flatten(input_shape=(28, 28)),\n",
        "  tf.keras.layers.Dense(128, activation='relu'),\n",
        "  tf.keras.layers.Dropout(0.4),\n",
        "  tf.keras.layers.Dense(48, activation='relu'),\n",
        "  tf.keras.layers.Dense(10)\n",
        "])\n"
      ],
      "metadata": {
        "id": "9Q-pAlRz2jRT"
      },
      "execution_count": null,
      "outputs": []
    },
    {
      "cell_type": "code",
      "source": [
        "#checking data\n",
        "pd.DataFrame(x_train[0])\n",
        "plt.imshow(x_train[0], interpolation='nearest')\n",
        "plt.show()"
      ],
      "metadata": {
        "colab": {
          "base_uri": "https://localhost:8080/",
          "height": 265
        },
        "id": "1aoZgrD7yDXK",
        "outputId": "88b42a83-1999-4fb2-8bd2-e49b6cc9c2c6"
      },
      "execution_count": null,
      "outputs": [
        {
          "output_type": "display_data",
          "data": {
            "text/plain": [
              "<Figure size 432x288 with 1 Axes>"
            ],
            "image/png": "[encoded data removed]"
          },
          "metadata": {
            "needs_background": "light"
          }
        }
      ]
    },
    {
      "cell_type": "code",
      "source": [
        "#To train model with doubly joined images\n",
        "def createMNISTdoubled(old_mnist):\n",
        "  '''Given MNIST dataset of single digits, concatenate two digits to produce a new dataset \n",
        "  of double digits.\n",
        "  PARAM: old_mnist: tf.keras.datasets.mnist object\n",
        "  RETURNS: (x_train, y_train ), (x_test, y_test): tuples containing the transformed/ joined images or labels.\n",
        "  '''\n",
        "  (old_xtr, old_ytr), (old_xte, old_yte) = old_mnist.load_data()\n",
        "  old_x = old_xtr, old_xte \n",
        "  old_y = old_ytr, old_yte\n",
        "  #indices for training and testing separated, sampled uniformly at random e.g [(1, 44), (595, 666)...]\n",
        "  idx_tr, idx_te = [np.random.randint(x.shape[0], size=(x.shape[0], 2)) for x in old_x]\n",
        "  print(idx_tr[:10])\n",
        "  #new training and testing data obtained by concatenating array present at the indices found before. Each tuple is used to produce 1 new array or label\n",
        "  new_xtr = np.array([np.hstack((old_xtr[x1], old_xtr[x2]))[:, ::2] for (x1, x2) in idx_tr])\n",
        "  new_ytr = np.array([old_ytr[y1] * 10 + old_ytr[y2] for (y1, y2) in idx_tr])\n",
        "  \n",
        "  new_xte, new_yte = np.array([np.hstack((old_xte[x1], old_xte[x2]))[:, ::2] for x1, x2 in idx_te]), np.array([old_yte[y1] * 10 + old_yte[y2] for y1, y2 in idx_te])\n",
        "  \n",
        "  return (new_xtr, new_ytr, new_xte, new_yte) \n"
      ],
      "metadata": {
        "id": "LpPAwd7Ivn9t"
      },
      "execution_count": null,
      "outputs": []
    },
    {
      "cell_type": "code",
      "source": [
        "def joinedimage(imdata, lbldata):\n",
        "  '''Takes data containing MNIST images and labels, randomly selects two images and concatenates them and their label, \n",
        "  and returns the image array and label.\n",
        "  PARAM: imdata: image arrays of MNIST digits\n",
        "      : lbldata: label arrays of the MNIST digits. \n",
        "  RETURNS: rarray: return array of joined images.\n",
        "          rlabel: label of the corresponding rarray.\n",
        "  '''\n",
        "  size = len(imdata)\n",
        "  index = np.random.randint(size, size=(2))\n",
        "  rarray, rlabel = np.array(np.hstack((imdata[index[0]], imdata[index[1]]))[:, ::2]), lbldata[index[0]] * 10 + lbldata[index[1]] \n",
        "  return rarray, rlabel\n",
        "\n",
        "def shift(array, max_shift=10): \n",
        "  '''Takes the image array and randomly shifts it up/down/left/right by up to max_shift pixels. \n",
        "  PARAM: array: the image array to shift.\n",
        "        max_shift: the maximum shift to be applied. Shift is uniformly sampled from range [-max_shift, max_shift]. \n",
        "  RETURNS: image array with the shift applied.\n",
        "  '''\n",
        "  axis = np.random.choice([0, 1])\n",
        "  shift = np.random.randint(-max_shift, max_shift)\n",
        "  array = np.roll(array, shift, axis=axis)\n",
        "  return array\n"
      ],
      "metadata": {
        "id": "pE6QmIFU3azB"
      },
      "execution_count": null,
      "outputs": []
    },
    {
      "cell_type": "code",
      "source": [
        "x_train, y_train, x_test, y_test = createMNISTdoubled(mnist_dataset)\n",
        "#x_<identifier> and y_<identifier> has new doubled data to train double model\n"
      ],
      "metadata": {
        "colab": {
          "base_uri": "https://localhost:8080/"
        },
        "id": "p7wR6JWT9OlQ",
        "outputId": "90be128c-510a-4a82-8b54-a3c4a8368304"
      },
      "execution_count": null,
      "outputs": [
        {
          "output_type": "stream",
          "name": "stdout",
          "text": [
            "[[ 4947 30072]\n",
            " [13399 15509]\n",
            " [42455  2576]\n",
            " [53751  7590]\n",
            " [42380   279]\n",
            " [54542 46279]\n",
            " [  101  7918]\n",
            " [26267 44804]\n",
            " [46704 23055]\n",
            " [24749 34001]]\n"
          ]
        }
      ]
    },
    {
      "cell_type": "code",
      "source": [
        "plt.imshow(x_train[0])\n",
        "plt.show() "
      ],
      "metadata": {
        "id": "MMd1fNfA_FQf",
        "colab": {
          "base_uri": "https://localhost:8080/",
          "height": 265
        },
        "outputId": "4522f7d9-33bb-4353-e674-911e9a1ba27c"
      },
      "execution_count": null,
      "outputs": [
        {
          "output_type": "display_data",
          "data": {
            "text/plain": [
              "<Figure size 432x288 with 1 Axes>"
            ],
            "image/png": "[encoded data removed]"
          },
          "metadata": {
            "needs_background": "light"
          }
        }
      ]
    },
    {
      "cell_type": "code",
      "source": [
        "newimg, newlbl = joinedimage(old_xtrain, old_ytrain)\n",
        "plt.imshow(newimg)\n",
        "plt.xlabel(newlbl)\n",
        "plt.show()"
      ],
      "metadata": {
        "colab": {
          "base_uri": "https://localhost:8080/",
          "height": 279
        },
        "id": "KKfgdsyJS3S8",
        "outputId": "ea386394-df9e-4073-da3c-7240ca917290"
      },
      "execution_count": null,
      "outputs": [
        {
          "output_type": "display_data",
          "data": {
            "text/plain": [
              "<Figure size 432x288 with 1 Axes>"
            ],
            "image/png": "[encoded data removed]"
          },
          "metadata": {
            "needs_background": "light"
          }
        }
      ]
    },
    {
      "cell_type": "code",
      "source": [
        "#train old model with old data\n",
        "#loss function defined as categorical cross entropy i.e - summation(y_i_truth * log y_i_prediction) for all i\n",
        "loss_function = tf.keras.losses.SparseCategoricalCrossentropy(from_logits=True)\n",
        "model_single.compile(\n",
        "    optimizer='adam',\n",
        "    loss=loss_function, \n",
        "    metrics=['accuracy'])\n",
        "model_single.fit(old_xtrain, old_ytrain, epochs=10)\n"
      ],
      "metadata": {
        "colab": {
          "base_uri": "https://localhost:8080/"
        },
        "id": "I8VnmDot5cwb",
        "outputId": "59735820-c0e2-41ec-c800-8e6298d76f75"
      },
      "execution_count": null,
      "outputs": [
        {
          "output_type": "stream",
          "name": "stdout",
          "text": [
            "Epoch 1/10\n",
            "1875/1875 [==============================] - 4s 2ms/step - loss: 0.3529 - accuracy: 0.8924\n",
            "Epoch 2/10\n",
            "1875/1875 [==============================] - 4s 2ms/step - loss: 0.1882 - accuracy: 0.9432\n",
            "Epoch 3/10\n",
            "1875/1875 [==============================] - 4s 2ms/step - loss: 0.1528 - accuracy: 0.9524\n",
            "Epoch 4/10\n",
            "1875/1875 [==============================] - 4s 2ms/step - loss: 0.1352 - accuracy: 0.9585\n",
            "Epoch 5/10\n",
            "1875/1875 [==============================] - 4s 2ms/step - loss: 0.1205 - accuracy: 0.9625\n",
            "Epoch 6/10\n",
            "1875/1875 [==============================] - 4s 2ms/step - loss: 0.1119 - accuracy: 0.9646\n",
            "Epoch 7/10\n",
            "1875/1875 [==============================] - 4s 2ms/step - loss: 0.1052 - accuracy: 0.9672\n",
            "Epoch 8/10\n",
            "1875/1875 [==============================] - 4s 2ms/step - loss: 0.0975 - accuracy: 0.9692\n",
            "Epoch 9/10\n",
            "1875/1875 [==============================] - 4s 2ms/step - loss: 0.0963 - accuracy: 0.9694\n",
            "Epoch 10/10\n",
            "1875/1875 [==============================] - 4s 2ms/step - loss: 0.0904 - accuracy: 0.9714\n"
          ]
        },
        {
          "output_type": "execute_result",
          "data": {
            "text/plain": [
              "<keras.callbacks.History at 0x7fe92a4103d0>"
            ]
          },
          "metadata": {},
          "execution_count": 93
        }
      ]
    },
    {
      "cell_type": "code",
      "source": [
        "#predictions of doubly joined image using single model\n",
        "newimg, newlabel = joinedimage(old_xtrain, old_ytrain)\n",
        "prediction = model_single.predict(np.expand_dims(newimg, 0))\n",
        "plt.imshow(newimg)\n",
        "plt.xlabel(f\"Predicted: {np.argmax(prediction)}, Actual: {newlabel}\")\n",
        "plt.show()"
      ],
      "metadata": {
        "colab": {
          "base_uri": "https://localhost:8080/",
          "height": 279
        },
        "id": "FO7qwYv3_ITq",
        "outputId": "295a098b-6b9a-4236-aeab-9fcf4371e20b"
      },
      "execution_count": null,
      "outputs": [
        {
          "output_type": "display_data",
          "data": {
            "text/plain": [
              "<Figure size 432x288 with 1 Axes>"
            ],
            "image/png": "[encoded data removed]"
          },
          "metadata": {
            "needs_background": "light"
          }
        }
      ]
    },
    {
      "cell_type": "code",
      "source": [
        "#prediction with shifted vs original images\n",
        "old = np.array(old_xtest[:20])\n",
        "actual = old_ytest[:20]\n",
        "new = np.array([shift(x) for x in old]) \n",
        "\n",
        "old_pred = tf.argmax(model_single.predict(old), 1)\n",
        "new_pred = tf.argmax(model_single.predict(new), 1)"
      ],
      "metadata": {
        "id": "sFTAtoQMAxfH"
      },
      "execution_count": null,
      "outputs": []
    },
    {
      "cell_type": "code",
      "source": [
        "print(actual)\n",
        "print(old_pred)\n",
        "print(new_pred)\n"
      ],
      "metadata": {
        "colab": {
          "base_uri": "https://localhost:8080/"
        },
        "id": "ONOwGlegTDW8",
        "outputId": "c47ce315-dcd0-46bd-e130-356bca7ade9d"
      },
      "execution_count": null,
      "outputs": [
        {
          "output_type": "stream",
          "name": "stdout",
          "text": [
            "[7 2 1 0 4 1 4 9 5 9 0 6 9 0 1 5 9 7 3 4]\n",
            "tf.Tensor([7 2 1 0 4 1 4 9 5 9 0 6 9 0 1 5 9 7 8 4], shape=(20,), dtype=int64)\n",
            "tf.Tensor([6 2 1 2 3 5 0 2 6 7 1 6 3 6 3 5 9 7 9 7], shape=(20,), dtype=int64)\n"
          ]
        }
      ]
    },
    {
      "cell_type": "code",
      "source": [
        "#plot old predictions\n",
        "\n",
        "noofitems = 10\n",
        "fig = plt.figure(figsize=(20, 10))\n",
        "fig.suptitle(\"Old predictions\")\n",
        "i = 1\n",
        "for j in range(noofitems): \n",
        "  ax = fig.add_subplot(3, 6, i)\n",
        "  ax.imshow(old[j])\n",
        "  ax.title.set_text(f\"Actual: {actual[j]}, Predicted: {old_pred[j]}\")\n",
        "  plt.tick_params(left = False, right = False , labelleft = False ,\n",
        "                labelbottom = False, bottom = False)\n",
        "  i += 1"
      ],
      "metadata": {
        "colab": {
          "base_uri": "https://localhost:8080/",
          "height": 454
        },
        "id": "EJ2cnPIbOuQA",
        "outputId": "12074d39-54e8-4185-e46f-849872c8c3b4"
      },
      "execution_count": null,
      "outputs": [
        {
          "output_type": "display_data",
          "data": {
            "text/plain": [
              "<Figure size 1440x720 with 10 Axes>"
            ],
            "image/png": "[encoded data removed]"
          },
          "metadata": {}
        }
      ]
    },
    {
      "cell_type": "code",
      "source": [
        "\n",
        "#plot new predictions\n",
        "\n",
        "noofitems = 10\n",
        "fig = plt.figure(figsize=(20, 10))\n",
        "fig.suptitle(\"New predictions\")\n",
        "i = 1\n",
        "for j in range(noofitems): \n",
        "  ax = fig.add_subplot(3, 6, i)\n",
        "  ax.imshow(new[j])\n",
        "  ax.title.set_text(f\"Actual: {actual[j]}, Predicted: {new_pred[j]}\")\n",
        "  plt.tick_params(left = False, right = False , labelleft = False ,\n",
        "                labelbottom = False, bottom = False)\n",
        "  i += 1"
      ],
      "metadata": {
        "colab": {
          "base_uri": "https://localhost:8080/",
          "height": 454
        },
        "id": "lyZ6WpSeGAoJ",
        "outputId": "9884e9df-24ed-4861-a46f-19148fa4f985"
      },
      "execution_count": null,
      "outputs": [
        {
          "output_type": "display_data",
          "data": {
            "text/plain": [
              "<Figure size 1440x720 with 10 Axes>"
            ],
            "image/png": "[encoded data removed]"
          },
          "metadata": {}
        }
      ]
    },
    {
      "cell_type": "code",
      "source": [
        "model_single.evaluate(old_xtest, old_ytest, verbose=2)"
      ],
      "metadata": {
        "colab": {
          "base_uri": "https://localhost:8080/"
        },
        "id": "tELQiJubSfNc",
        "outputId": "2377cc15-ee08-4d76-c04b-559686699db1"
      },
      "execution_count": null,
      "outputs": [
        {
          "output_type": "stream",
          "name": "stdout",
          "text": [
            "313/313 - 1s - loss: 0.0767 - accuracy: 0.9792 - 503ms/epoch - 2ms/step\n"
          ]
        },
        {
          "output_type": "execute_result",
          "data": {
            "text/plain": [
              "[0.07667320221662521, 0.979200005531311]"
            ]
          },
          "metadata": {},
          "execution_count": 94
        }
      ]
    },
    {
      "cell_type": "code",
      "source": [
        "#shift all arrays in old_xtest to make shifted_oldxtest\n",
        "shifted_oldxtest = np.array(list(map(shift, old_xtest)))"
      ],
      "metadata": {
        "id": "Bc8rMd6RYt-e"
      },
      "execution_count": null,
      "outputs": []
    },
    {
      "cell_type": "code",
      "source": [
        "plt.imshow(shifted_oldxtest[9])\n",
        "plt.show()"
      ],
      "metadata": {
        "colab": {
          "base_uri": "https://localhost:8080/",
          "height": 265
        },
        "id": "ENcRR2BxZcGE",
        "outputId": "3712197e-3b27-40d3-affb-42851a71f3f6"
      },
      "execution_count": null,
      "outputs": [
        {
          "output_type": "display_data",
          "data": {
            "text/plain": [
              "<Figure size 432x288 with 1 Axes>"
            ],
            "image/png": "[encoded data removed]"
          },
          "metadata": {
            "needs_background": "light"
          }
        }
      ]
    },
    {
      "cell_type": "code",
      "source": [
        "model_single.evaluate(shifted_oldxtest, old_ytest, verbose=2)"
      ],
      "metadata": {
        "colab": {
          "base_uri": "https://localhost:8080/"
        },
        "id": "hpQdm1XXXmEE",
        "outputId": "2b885f25-bfae-4d77-fee7-9920306a093c"
      },
      "execution_count": null,
      "outputs": [
        {
          "output_type": "stream",
          "name": "stdout",
          "text": [
            "313/313 - 1s - loss: 9.4398 - accuracy: 0.3748 - 581ms/epoch - 2ms/step\n"
          ]
        },
        {
          "output_type": "execute_result",
          "data": {
            "text/plain": [
              "[9.439831733703613, 0.3747999966144562]"
            ]
          },
          "metadata": {},
          "execution_count": 112
        }
      ]
    },
    {
      "cell_type": "markdown",
      "source": [
        "Shifting images or augmenting images drastically reduces the accuracy of the model. Some reasons include: Training was done on unshifted images or non augmented images, higher variance is observed with shifted \n",
        "images and model is not tolerant to variance because of lack of variance in training data etc. "
      ],
      "metadata": {
        "id": "yXX5NIl-bXeU"
      }
    },
    {
      "cell_type": "code",
      "source": [
        "model_single.save('models/single_mnist')"
      ],
      "metadata": {
        "colab": {
          "base_uri": "https://localhost:8080/"
        },
        "id": "yaySVNnN0O-q",
        "outputId": "fcefbb28-9743-4474-ef37-75d63aa3a38c"
      },
      "execution_count": null,
      "outputs": [
        {
          "output_type": "stream",
          "name": "stdout",
          "text": [
            "INFO:tensorflow:Assets written to: models/single_mnist/assets\n"
          ]
        }
      ]
    },
    {
      "cell_type": "code",
      "source": [
        "from google.colab import drive\n",
        "drive.mount('/content/drive')"
      ],
      "metadata": {
        "colab": {
          "base_uri": "https://localhost:8080/"
        },
        "id": "3fnwkmNL05Fa",
        "outputId": "f16fe891-b9fd-4a9d-f5dc-99b4d2c319aa"
      },
      "execution_count": null,
      "outputs": [
        {
          "output_type": "stream",
          "name": "stdout",
          "text": [
            "Mounted at /content/drive\n"
          ]
        }
      ]
    },
    {
      "cell_type": "code",
      "source": [
        "model_single.save('/content/drive/MyDrive/Colab Notebooks/models/single_mnist')"
      ],
      "metadata": {
        "colab": {
          "base_uri": "https://localhost:8080/"
        },
        "id": "N3Sc8Vxb4PB4",
        "outputId": "81afbde3-897b-4aaf-90dd-16fa7980fce8"
      },
      "execution_count": null,
      "outputs": [
        {
          "output_type": "stream",
          "name": "stdout",
          "text": [
            "INFO:tensorflow:Assets written to: /content/drive/MyDrive/Colab Notebooks/models/single_mnist/assets\n"
          ]
        }
      ]
    },
    {
      "cell_type": "code",
      "source": [
        ""
      ],
      "metadata": {
        "id": "KT2Y_mbv4omo"
      },
      "execution_count": null,
      "outputs": []
    }
  ]
}