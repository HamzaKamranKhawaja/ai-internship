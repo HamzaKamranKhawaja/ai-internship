{
  "nbformat": 4,
  "nbformat_minor": 0,
  "metadata": {
    "colab": {
      "name": "UNIQUIFY ASSIGNMENT 1.2",
      "provenance": [],
      "authorship_tag": "ABX9TyO+X8gw1/SWHGGyaeX0CLCY",
      "include_colab_link": true
    },
    "kernelspec": {
      "name": "python3",
      "display_name": "Python 3"
    },
    "language_info": {
      "name": "python"
    }
  },
  "cells": [
    {
      "cell_type": "markdown",
      "metadata": {
        "id": "view-in-github",
        "colab_type": "text"
      },
      "source": [
        "<a href=\"https://colab.research.google.com/github/HamzaKamranKhawaja/ai-internship/blob/main/UNIQUIFY_ASSIGNMENT_1_2.ipynb\" target=\"_parent\"><img src=\"https://colab.research.google.com/assets/colab-badge.svg\" alt=\"Open In Colab\"/></a>"
      ]
    },
    {
      "cell_type": "code",
      "execution_count": null,
      "metadata": {
        "id": "JHkhNrN9w8jJ"
      },
      "outputs": [],
      "source": [
        "import tensorflow as tf\n",
        "from tensorflow import keras\n",
        "\n"
      ]
    },
    {
      "cell_type": "code",
      "source": [
        "model = keras.models.Sequential([\n",
        "    keras.layers.Flatten(input_shape=(28, 28)), \n",
        "    keras.layers.Dense(128, activation='relu'), \n",
        "    keras.layers.Dense(48, activation='relu'),\n",
        "    keras.layers.Dense(24, activation=\"relu\"), \n",
        "    keras.layers.Dense(10)\n",
        "])"
      ],
      "metadata": {
        "id": "Qh3PMwNIQ71l"
      },
      "execution_count": null,
      "outputs": []
    },
    {
      "cell_type": "code",
      "source": [
        "#optimizers and metrics\n",
        "\n",
        "optimizer = tf.keras.optimizers.Adam()\n",
        "loss_obj = tf.keras.losses.SparseCategoricalCrossentropy(from_logits=True)\n",
        "\n",
        "#metrics\n",
        "train_loss = tf.keras.metrics.Mean(name='train_loss')\n",
        "train_accuracy = tf.keras.metrics.SparseCategoricalAccuracy(name='train_accuracy')\n",
        "\n",
        "test_loss = tf.keras.metrics.Mean(name='test_loss')\n",
        "test_accuracy = tf.keras.metrics.SparseCategoricalAccuracy(name='test_accuracy')\n",
        "\n",
        "\n",
        "\n"
      ],
      "metadata": {
        "id": "TLiVEn5uZlD2"
      },
      "execution_count": null,
      "outputs": []
    },
    {
      "cell_type": "code",
      "source": [
        "@tf.function\n",
        "def train_step(images, labels): \n",
        "  with tf.GradientTape() as tape: \n",
        "    predictions = model(images, training=True)\n",
        "    loss = loss_obj(labels, predictions)\n",
        "  all_variables = model.trainable_variables \n",
        "  gradients = tape.gradient(loss, all_variables)\n",
        "  optimizer.apply_gradients(zip(gradients, all_variables))\n",
        "  \n",
        "  train_loss(loss)\n",
        "  train_accuracy(labels, predictions)\n",
        "\n",
        "@tf.function\n",
        "def test_step(images, labels): \n",
        "  predictions = model(images, training=False)\n",
        "  t_loss = loss_obj(labels, predictions)\n",
        "  \n",
        "  test_loss(t_loss)\n",
        "  test_accuracy(labels, predictions)"
      ],
      "metadata": {
        "id": "KdRn5KURb6e4"
      },
      "execution_count": null,
      "outputs": []
    },
    {
      "cell_type": "code",
      "source": [
        "#Process the data\n",
        "mnist_data = keras.datasets.mnist\n",
        "(x_train, y_train), (x_test, y_test) = mnist_data.load_data()\n",
        "x_train = x_train[..., tf.newaxis].astype(\"float32\")\n",
        "x_test = x_test[..., tf.newaxis].astype(\"float32\")\n",
        "\n",
        "#batch and shuffle\n",
        "train_ds = tf.data.Dataset.from_tensor_slices(\n",
        "    (x_train, y_train)).shuffle(10000).batch(32)\n",
        "\n",
        "test_ds = tf.data.Dataset.from_tensor_slices(\n",
        "    (x_test, y_test)).shuffle(10000).batch(32)\n"
      ],
      "metadata": {
        "id": "EcSiRnCeew9f"
      },
      "execution_count": null,
      "outputs": []
    },
    {
      "cell_type": "code",
      "source": [
        "#Train and test the model\n",
        "EPOCHS = 7\n",
        "\n",
        "for epoch in range(EPOCHS): \n",
        "  train_loss.reset_states\n",
        "  train_accuracy.reset_states()\n",
        "  test_loss.reset_states()\n",
        "  test_accuracy.reset_states()\n",
        "\n",
        "  for images, labels in train_ds: \n",
        "    train_step(images, labels)\n",
        "  \n",
        "  for test_images, test_labels in test_ds: \n",
        "    test_step(test_images, test_labels)\n",
        "  \n",
        "  print(\n",
        "      f'Epoch {epoch + 1} '\n",
        "      f'Loss: {train_loss.result()}, '\n",
        "      f'Accuracy: {train_accuracy.result() * 100} '\n",
        "      f'Test Loss: {test_loss.result()}, '\n",
        "      f'Test Accuracy: {test_accuracy.result() * 100}'\n",
        "  )"
      ],
      "metadata": {
        "colab": {
          "base_uri": "https://localhost:8080/"
        },
        "id": "ZKuoRbJlpxKc",
        "outputId": "528d461e-8f29-4826-ef6f-e95b3c617bf4"
      },
      "execution_count": null,
      "outputs": [
        {
          "output_type": "stream",
          "name": "stdout",
          "text": [
            "Epoch 1 Loss: 1.1330633163452148, Accuracy: 80.74166870117188 Test Loss: 0.39653459191322327, Test Accuracy: 90.62999725341797\n",
            "Epoch 2 Loss: 0.71539705991745, Accuracy: 92.39166259765625 Test Loss: 0.2520633637905121, Test Accuracy: 93.91999816894531\n",
            "Epoch 3 Loss: 0.5469228029251099, Accuracy: 94.51166534423828 Test Loss: 0.20463420450687408, Test Accuracy: 94.4800033569336\n",
            "Epoch 4 Loss: 0.45090872049331665, Accuracy: 95.61332702636719 Test Loss: 0.18119460344314575, Test Accuracy: 95.25\n",
            "Epoch 5 Loss: 0.3863939642906189, Accuracy: 96.32666778564453 Test Loss: 0.13367028534412384, Test Accuracy: 96.30000305175781\n",
            "Epoch 6 Loss: 0.339649498462677, Accuracy: 97.02333068847656 Test Loss: 0.1658947765827179, Test Accuracy: 95.51000213623047\n",
            "Epoch 7 Loss: 0.30437836050987244, Accuracy: 97.4366683959961 Test Loss: 0.11609009653329849, Test Accuracy: 97.0\n"
          ]
        }
      ]
    },
    {
      "cell_type": "code",
      "source": [
        "from google.colab import drive\n",
        "drive.mount('/content/drive', force_remount=True)\n",
        "model.save_weights('/content/drive/MyDrive/Colab Notebooks/weights/a1-2')\n"
      ],
      "metadata": {
        "colab": {
          "base_uri": "https://localhost:8080/"
        },
        "id": "8h0xSfpgNLoY",
        "outputId": "c6308e7e-ba42-4194-f59c-66f75671249a"
      },
      "execution_count": null,
      "outputs": [
        {
          "output_type": "stream",
          "name": "stdout",
          "text": [
            "Mounted at /content/drive\n"
          ]
        }
      ]
    },
    {
      "cell_type": "code",
      "source": [
        ""
      ],
      "metadata": {
        "id": "TRj_bRopamFd"
      },
      "execution_count": null,
      "outputs": []
    }
  ]
}